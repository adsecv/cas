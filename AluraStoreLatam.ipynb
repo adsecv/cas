{
  "nbformat": 4,
  "nbformat_minor": 0,
  "metadata": {
    "colab": {
      "provenance": []
    },
    "kernelspec": {
      "name": "python3",
      "display_name": "Python 3"
    },
    "language_info": {
      "name": "python"
    }
  },
  "cells": [
    {
      "cell_type": "markdown",
      "source": [
        "### Importación de datos\n",
        "\n"
      ],
      "metadata": {
        "id": "RhEdWd9YUR6H"
      }
    },
    {
      "cell_type": "code",
      "execution_count": 18,
      "metadata": {
        "id": "T3EvaeQ_INIL"
      },
      "outputs": [],
      "source": [
        "import pandas as pd\n",
        "\n",
        "url = \"https://raw.githubusercontent.com/adsecv/cas/refs/heads/main/base-de-datos-challenge1-latam/tienda_1.csv\"\n",
        "url2 = \"https://raw.githubusercontent.com/adsecv/cas/refs/heads/main/base-de-datos-challenge1-latam/tienda_2.csv\"\n",
        "url3 = \"https://raw.githubusercontent.com/adsecv/cas/refs/heads/main/base-de-datos-challenge1-latam/tienda_3.csv\"\n",
        "url4 = \"https://raw.githubusercontent.com/adsecv/cas/refs/heads/main/base-de-datos-challenge1-latam/tienda_4.csv\"\n",
        "\n",
        "tienda1 = pd.read_csv(url)\n",
        "tienda2 = pd.read_csv(url2)\n",
        "tienda3 = pd.read_csv(url3)\n",
        "tienda4 = pd.read_csv(url4)\n",
        "\n",
        "#tienda1.head()\n"
      ]
    },
    {
      "cell_type": "markdown",
      "source": [
        "#1. Análisis de facturación\n",
        "\n"
      ],
      "metadata": {
        "id": "X62IW3KFUIYm"
      }
    },
    {
      "cell_type": "code",
      "source": [
        "# Calcula los ingresos totales\n",
        "ingresos_tienda1 = (tienda1['Precio']).sum()\n",
        "ingresos_tienda2 = (tienda2['Precio']).sum()\n",
        "ingresos_tienda3 = (tienda3['Precio']).sum()\n",
        "ingresos_tienda4 = (tienda4['Precio']).sum()\n",
        "\n",
        "# Imprime los ingresos con un formato adecuado\n",
        "print(f\"Ingresos tienda 1: {ingresos_tienda1:,.1f}\")\n",
        "print(f\"Ingresos tienda 2: {ingresos_tienda2:,.1f}\")\n",
        "print(f\"Ingresos tienda 3: {ingresos_tienda3:,.1f}\")\n",
        "print(f\"Ingresos tienda 4: {ingresos_tienda4:,.1f}\")"
      ],
      "metadata": {
        "colab": {
          "base_uri": "https://localhost:8080/"
        },
        "id": "i-oeajzGVubo",
        "outputId": "c53dbca2-a05c-484c-fd98-c7a27e0124fa"
      },
      "execution_count": 23,
      "outputs": [
        {
          "output_type": "stream",
          "name": "stdout",
          "text": [
            "Ingresos tienda 1: 1,150,880,400.0\n",
            "Ingresos tienda 2: 1,116,343,500.0\n",
            "Ingresos tienda 3: 1,098,019,600.0\n",
            "Ingresos tienda 4: 1,038,375,700.0\n"
          ]
        }
      ]
    },
    {
      "cell_type": "code",
      "source": [],
      "metadata": {
        "id": "WZz4ELq3VzHY"
      },
      "execution_count": 1,
      "outputs": []
    },
    {
      "cell_type": "markdown",
      "source": [
        "# 2. Ventas por categoría"
      ],
      "metadata": {
        "id": "2V_vcAPzWZmR"
      }
    },
    {
      "cell_type": "code",
      "source": [
        "# Agrupa y cuenta la cantidad de productos vendidos en cada categoría para cada tienda\n",
        "productos_por_categoria_tienda1 = tienda1.groupby('Categoría del Producto').size().reset_index(name='Tienda 1')\n",
        "productos_por_categoria_tienda2 = tienda2.groupby('Categoría del Producto').size().reset_index(name='Tienda 2')\n",
        "productos_por_categoria_tienda3 = tienda3.groupby('Categoría del Producto').size().reset_index(name='Tienda 3')\n",
        "productos_por_categoria_tienda4 = tienda4.groupby('Categoría del Producto').size().reset_index(name='Tienda 4')\n",
        "\n",
        "tabla_completa = pd.merge(productos_por_categoria_tienda1, productos_por_categoria_tienda2, on='Categoría del Producto', how='outer')\n",
        "tabla_completa = pd.merge(tabla_completa, productos_por_categoria_tienda3, on='Categoría del Producto', how='outer')\n",
        "tabla_completa = pd.merge(tabla_completa, productos_por_categoria_tienda4, on='Categoría del Producto', how='outer')\n",
        "\n",
        "# Asegurarse de que las cantidades sean enteros\n",
        "tabla_completa[['Tienda 1', 'Tienda 2', 'Tienda 3', 'Tienda 4']] = tabla_completa[['Tienda 1', 'Tienda 2', 'Tienda 3', 'Tienda 4']].astype(int)\n",
        "\n",
        "# Ordenar por la columna 'Tienda 1' de mayor a menor\n",
        "tabla_completa = tabla_completa.sort_values(by='Tienda 1', ascending=False).reset_index(drop=True)\n",
        "\n",
        "# Imprime la tabla final con las categorías y la cantidad de productos vendidos por tienda\n",
        "print(tabla_completa.to_string(index=False))\n"
      ],
      "metadata": {
        "id": "A34YupIuYhfF",
        "colab": {
          "base_uri": "https://localhost:8080/"
        },
        "outputId": "8688734e-e454-4769-8790-f60f3656bc6b"
      },
      "execution_count": 53,
      "outputs": [
        {
          "output_type": "stream",
          "name": "stdout",
          "text": [
            " Categoría del Producto  Tienda 1  Tienda 2  Tienda 3  Tienda 4\n",
            "                Muebles       465       442       499       480\n",
            "           Electrónicos       448       422       451       451\n",
            "               Juguetes       324       313       315       338\n",
            "      Electrodomésticos       312       305       278       254\n",
            "   Deportes y diversión       284       275       277       277\n",
            " Instrumentos musicales       182       224       177       170\n",
            "                 Libros       173       197       185       187\n",
            "Artículos para el hogar       171       181       177       201\n"
          ]
        }
      ]
    },
    {
      "cell_type": "code",
      "source": [],
      "metadata": {
        "id": "yZR6cOjXYSk1"
      },
      "execution_count": null,
      "outputs": []
    },
    {
      "cell_type": "markdown",
      "source": [
        "# 3. Calificación promedio de la tienda\n"
      ],
      "metadata": {
        "id": "Rq6tU_xSY3jk"
      }
    },
    {
      "cell_type": "code",
      "source": [
        "# Calcula la calificación promedio para cada tienda\n",
        "promedio_calificacion_tienda1 = tienda1['Calificación'].mean()\n",
        "promedio_calificacion_tienda2 = tienda2['Calificación'].mean()\n",
        "promedio_calificacion_tienda3 = tienda3['Calificación'].mean()\n",
        "promedio_calificacion_tienda4 = tienda4['Calificación'].mean()\n",
        "\n",
        "# Imprime los resultados con formato de decimales\n",
        "print(f\"Promedio de calificación tienda 1: {promedio_calificacion_tienda1:.2f}\")\n",
        "print(f\"Promedio de calificación tienda 2: {promedio_calificacion_tienda2:.2f}\")\n",
        "print(f\"Promedio de calificación tienda 3: {promedio_calificacion_tienda3:.2f}\")\n",
        "print(f\"Promedio de calificación tienda 4: {promedio_calificacion_tienda4:.2f}\")"
      ],
      "metadata": {
        "id": "bh3jjjJwY5MU",
        "colab": {
          "base_uri": "https://localhost:8080/"
        },
        "outputId": "82a9de0d-5140-4844-8f0d-761b136ebac5"
      },
      "execution_count": 31,
      "outputs": [
        {
          "output_type": "stream",
          "name": "stdout",
          "text": [
            "Promedio de calificación tienda 1: 3.98\n",
            "Promedio de calificación tienda 2: 4.04\n",
            "Promedio de calificación tienda 3: 4.05\n",
            "Promedio de calificación tienda 4: 4.00\n"
          ]
        }
      ]
    },
    {
      "cell_type": "code",
      "source": [],
      "metadata": {
        "id": "I0KkjPoTY88F"
      },
      "execution_count": null,
      "outputs": []
    },
    {
      "cell_type": "markdown",
      "source": [
        "# 4. Productos más y menos vendidos"
      ],
      "metadata": {
        "id": "DmNp1KPBZCm-"
      }
    },
    {
      "cell_type": "code",
      "source": [
        "# Cuenta la cantidad de ventas de cada producto (por el número de ocurrencias)\n",
        "productos_vendidos_tienda1 = tienda1.groupby('Producto').size().reset_index(name='Ventas')\n",
        "productos_vendidos_tienda2 = tienda2.groupby('Producto').size().reset_index(name='Ventas')\n",
        "productos_vendidos_tienda3 = tienda3.groupby('Producto').size().reset_index(name='Ventas')\n",
        "productos_vendidos_tienda4 = tienda4.groupby('Producto').size().reset_index(name='Ventas')\n",
        "\n",
        "# Ordena los productos por ventas\n",
        "top5_mas_vendidos_tienda1 = productos_vendidos_tienda1.sort_values('Ventas', ascending=False).head(5).reset_index(drop=True)\n",
        "top5_menos_vendidos_tienda1 = productos_vendidos_tienda1.sort_values('Ventas', ascending=True).head(5).reset_index(drop=True)\n",
        "\n",
        "top5_mas_vendidos_tienda2 = productos_vendidos_tienda2.sort_values('Ventas', ascending=False).head(5).reset_index(drop=True)\n",
        "top5_menos_vendidos_tienda2 = productos_vendidos_tienda2.sort_values('Ventas', ascending=True).head(5).reset_index(drop=True)\n",
        "\n",
        "top5_mas_vendidos_tienda3 = productos_vendidos_tienda3.sort_values('Ventas', ascending=False).head(5).reset_index(drop=True)\n",
        "top5_menos_vendidos_tienda3 = productos_vendidos_tienda3.sort_values('Ventas', ascending=True).head(5).reset_index(drop=True)\n",
        "\n",
        "top5_mas_vendidos_tienda4 = productos_vendidos_tienda4.sort_values('Ventas', ascending=False).head(5).reset_index(drop=True)\n",
        "top5_menos_vendidos_tienda4 = productos_vendidos_tienda4.sort_values('Ventas', ascending=True).head(5).reset_index(drop=True)\n",
        "\n",
        "# Imprime los resultados con alineación estética\n",
        "print(\"Top 5 productos más vendidos tienda 1:\")\n",
        "print(top5_mas_vendidos_tienda1[['Producto', 'Ventas']].to_string(index=False, justify='center', col_space=15))\n",
        "print(\"\\nTop 5 productos menos vendidos tienda 1:\")\n",
        "print(top5_menos_vendidos_tienda1[['Producto', 'Ventas']].to_string(index=False, justify='center', col_space=15))\n",
        "\n",
        "print(\"\\nTop 5 productos más vendidos tienda 2:\")\n",
        "print(top5_mas_vendidos_tienda2[['Producto', 'Ventas']].to_string(index=False, justify='center', col_space=15))\n",
        "print(\"\\nTop 5 productos menos vendidos tienda 2:\")\n",
        "print(top5_menos_vendidos_tienda2[['Producto', 'Ventas']].to_string(index=False, justify='center', col_space=15))\n",
        "\n",
        "print(\"\\nTop 5 productos más vendidos tienda 3:\")\n",
        "print(top5_mas_vendidos_tienda3[['Producto', 'Ventas']].to_string(index=False, justify='center', col_space=15))\n",
        "print(\"\\nTop 5 productos menos vendidos tienda 3:\")\n",
        "print(top5_menos_vendidos_tienda3[['Producto', 'Ventas']].to_string(index=False, justify='center', col_space=15))\n",
        "\n",
        "print(\"\\nTop 5 productos más vendidos tienda 4:\")\n",
        "print(top5_mas_vendidos_tienda4[['Producto', 'Ventas']].to_string(index=False, justify='center', col_space=15))\n",
        "print(\"\\nTop 5 productos menos vendidos tienda 4:\")\n",
        "print(top5_menos_vendidos_tienda4[['Producto', 'Ventas']].to_string(index=False, justify='center', col_space=15))\n"
      ],
      "metadata": {
        "id": "qoyjqijQZHfF",
        "colab": {
          "base_uri": "https://localhost:8080/"
        },
        "outputId": "8ca1ee49-905d-43d8-cc6e-1a61477dce33"
      },
      "execution_count": 54,
      "outputs": [
        {
          "output_type": "stream",
          "name": "stdout",
          "text": [
            "Top 5 productos más vendidos tienda 1:\n",
            "    Producto          Ventas    \n",
            "         Armario        60      \n",
            "   TV LED UHD 4K        60      \n",
            "      Microondas        60      \n",
            "Secadora de ropa        58      \n",
            "   Mesa de noche        56      \n",
            "\n",
            "Top 5 productos menos vendidos tienda 1:\n",
            "          Producto               Ventas    \n",
            "  Auriculares con micrófono        33      \n",
            "               Celular ABXY        33      \n",
            "            Olla de presión        35      \n",
            "                  Pandereta        36      \n",
            "Ciencia de datos con Python        39      \n",
            "\n",
            "Top 5 productos más vendidos tienda 2:\n",
            "         Producto              Ventas    \n",
            "Iniciando en programación        65      \n",
            "               Microondas        62      \n",
            "                  Batería        61      \n",
            "                Pandereta        58      \n",
            "        Guitarra acústica        58      \n",
            "\n",
            "Top 5 productos menos vendidos tienda 2:\n",
            "    Producto         Ventas    \n",
            "  Juego de mesa        32      \n",
            "      Impresora        34      \n",
            "Mesa de comedor        34      \n",
            "         Sillón        35      \n",
            "    Auriculares        37      \n",
            "\n",
            "Top 5 productos más vendidos tienda 3:\n",
            "    Producto         Ventas    \n",
            "  Kit de bancas        57      \n",
            "Mesa de comedor        56      \n",
            "      Cama king        56      \n",
            "   Set de ollas        55      \n",
            "  Mesa de noche        55      \n",
            "\n",
            "Top 5 productos menos vendidos tienda 3:\n",
            "        Producto             Ventas    \n",
            "Bloques de construcción        35      \n",
            "           Set de vasos        36      \n",
            "                Mochila        36      \n",
            "             Microondas        36      \n",
            "           Vaso térmico        38      \n",
            "\n",
            "Top 5 productos más vendidos tienda 4:\n",
            "         Producto              Ventas    \n",
            "                 Cama box        62      \n",
            "               Cubertería        59      \n",
            "                Cama king        56      \n",
            "  Dashboards con Power BI        56      \n",
            "Carrito de control remoto        55      \n",
            "\n",
            "Top 5 productos menos vendidos tienda 4:\n",
            "          Producto               Ventas    \n",
            "         Guitarra eléctrica        33      \n",
            "                    Armario        34      \n",
            "          Guitarra acústica        37      \n",
            "Ciencia de datos con Python        38      \n",
            "           Lavadora de ropa        38      \n"
          ]
        }
      ]
    },
    {
      "cell_type": "code",
      "source": [
        "\n"
      ],
      "metadata": {
        "id": "0Sw3sd4IZIGW"
      },
      "execution_count": 40,
      "outputs": []
    },
    {
      "cell_type": "markdown",
      "source": [
        "# 5. Envío promedio por tienda"
      ],
      "metadata": {
        "id": "Fl0cGi3bZKqU"
      }
    },
    {
      "cell_type": "code",
      "source": [
        "# Calculaa el costo de envío promedio por tienda\n",
        "costo_envio_promedio_tienda1 = tienda1['Costo de envío'].mean()\n",
        "costo_envio_promedio_tienda2 = tienda2['Costo de envío'].mean()\n",
        "costo_envio_promedio_tienda3 = tienda3['Costo de envío'].mean()\n",
        "costo_envio_promedio_tienda4 = tienda4['Costo de envío'].mean()\n",
        "\n",
        "# Imprime los resultados con un formato claro\n",
        "print(f\"Costo de envío promedio tienda 1: ${costo_envio_promedio_tienda1:,.2f}\")\n",
        "print(f\"Costo de envío promedio tienda 2: ${costo_envio_promedio_tienda2:,.2f}\")\n",
        "print(f\"Costo de envío promedio tienda 3: ${costo_envio_promedio_tienda3:,.2f}\")\n",
        "print(f\"Costo de envío promedio tienda 4: ${costo_envio_promedio_tienda4:,.2f}\")"
      ],
      "metadata": {
        "id": "S2JeaCykZNy9",
        "colab": {
          "base_uri": "https://localhost:8080/"
        },
        "outputId": "2ae6dfa5-9762-45e7-96f2-1008960944cb"
      },
      "execution_count": 55,
      "outputs": [
        {
          "output_type": "stream",
          "name": "stdout",
          "text": [
            "Costo de envío promedio tienda 1: $26,018.61\n",
            "Costo de envío promedio tienda 2: $25,216.24\n",
            "Costo de envío promedio tienda 3: $24,805.68\n",
            "Costo de envío promedio tienda 4: $23,459.46\n"
          ]
        }
      ]
    },
    {
      "cell_type": "code",
      "source": [],
      "metadata": {
        "id": "0tSdCie9ZQlt"
      },
      "execution_count": null,
      "outputs": []
    }
  ]
}